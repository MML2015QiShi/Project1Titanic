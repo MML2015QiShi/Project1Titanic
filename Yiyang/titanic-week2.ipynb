{
 "metadata": {
  "name": "",
  "signature": "sha256:04a3e02f9eb32016dbf743ea9de6b683531a95011b2392c45af51fc1141b456c"
 },
 "nbformat": 3,
 "nbformat_minor": 0,
 "worksheets": [
  {
   "cells": [
    {
     "cell_type": "heading",
     "level": 1,
     "metadata": {},
     "source": [
      "Titanic: Machine Learning from Disasters II"
     ]
    },
    {
     "cell_type": "markdown",
     "metadata": {},
     "source": [
      "Yiyang Yang"
     ]
    },
    {
     "cell_type": "markdown",
     "metadata": {},
     "source": [
      "This projects will test certain models to predict survival on titanic. The predicted results will be submitted to Kaggle for tests."
     ]
    },
    {
     "cell_type": "heading",
     "level": 2,
     "metadata": {},
     "source": [
      "Gender Model"
     ]
    },
    {
     "cell_type": "markdown",
     "metadata": {},
     "source": [
      "According to last week's data analysis result, gender is a very imortant factor for predicting. The first suggested model will only use this feature. "
     ]
    },
    {
     "cell_type": "code",
     "collapsed": false,
     "input": [
      "%matplotlib inline\n",
      "import pandas as pd\n",
      "import numpy as np\n",
      "import matplotlib.pyplot as plt\n",
      "\n",
      "df_train = pd.read_csv('train.csv',header=0)\n",
      "df_test = pd.read_csv('test.csv',header=0)\n",
      "\n",
      "sex_grouped = pd.crosstab(df_train.Sex,df_train.Survived, margins=True)\n",
      "sex_survival_ratio = sex_grouped[1]/sex_grouped['All']\n",
      "for i in range(0,2):\n",
      "    print 'The survival ratio for '+sex_grouped.index[i]+' is '+repr(sex_survival_ratio[i])+'\\n'\n",
      "    \n",
      "survival_map = {}\n",
      "for i in range(0,2):\n",
      "    if sex_survival_ratio[i]>sex_survival_ratio[i+1%2]:\n",
      "        survival_map[sex_grouped.index[i]] = 1\n",
      "    else:\n",
      "        survival_map[sex_grouped.index[i]] = 0\n",
      "\n",
      "df_test['Survived'] = df_test['Sex'].map(survival_map)\n",
      "df_test[['PassengerId','Survived']].to_csv('gendermodel.csv', index=False)"
     ],
     "language": "python",
     "metadata": {},
     "outputs": [
      {
       "output_type": "stream",
       "stream": "stdout",
       "text": [
        "The survival ratio for female is 0.7420382165605095\n",
        "\n",
        "The survival ratio for male is 0.18890814558058924\n",
        "\n"
       ]
      }
     ],
     "prompt_number": 78
    },
    {
     "cell_type": "markdown",
     "metadata": {},
     "source": [
      "This submission scored 0.76555. Since this model only uses one feature-gender, it can be improved by using more features and more advanced models. "
     ]
    },
    {
     "cell_type": "heading",
     "level": 2,
     "metadata": {},
     "source": [
      "Logistic Regression Model"
     ]
    },
    {
     "cell_type": "markdown",
     "metadata": {},
     "source": [
      "Logistic regression is a typical model in classification. The linear regression model in scikit package is used to realize this function."
     ]
    },
    {
     "cell_type": "code",
     "collapsed": false,
     "input": [
      "%matplotlib inline\n",
      "import pandas as pd\n",
      "import numpy as np\n",
      "import matplotlib.pyplot as plt\n",
      "from sklearn import linear_model\n",
      "\n",
      "df_train = pd.read_csv('train.csv',header=0)\n",
      "df_test = pd.read_csv('test.csv',header=0)\n",
      "\n",
      "Y1 = df_train.Survived.values"
     ],
     "language": "python",
     "metadata": {},
     "outputs": [],
     "prompt_number": 179
    },
    {
     "cell_type": "code",
     "collapsed": false,
     "input": [
      "df_train.describe()"
     ],
     "language": "python",
     "metadata": {},
     "outputs": [
      {
       "html": [
        "<div style=\"max-height:1000px;max-width:1500px;overflow:auto;\">\n",
        "<table border=\"1\" class=\"dataframe\">\n",
        "  <thead>\n",
        "    <tr style=\"text-align: right;\">\n",
        "      <th></th>\n",
        "      <th>PassengerId</th>\n",
        "      <th>Survived</th>\n",
        "      <th>Pclass</th>\n",
        "      <th>Age</th>\n",
        "      <th>SibSp</th>\n",
        "      <th>Parch</th>\n",
        "      <th>Fare</th>\n",
        "    </tr>\n",
        "  </thead>\n",
        "  <tbody>\n",
        "    <tr>\n",
        "      <th>count</th>\n",
        "      <td> 891.000000</td>\n",
        "      <td> 891.000000</td>\n",
        "      <td> 891.000000</td>\n",
        "      <td> 714.000000</td>\n",
        "      <td> 891.000000</td>\n",
        "      <td> 891.000000</td>\n",
        "      <td> 891.000000</td>\n",
        "    </tr>\n",
        "    <tr>\n",
        "      <th>mean</th>\n",
        "      <td> 446.000000</td>\n",
        "      <td>   0.383838</td>\n",
        "      <td>   2.308642</td>\n",
        "      <td>  29.699118</td>\n",
        "      <td>   0.523008</td>\n",
        "      <td>   0.381594</td>\n",
        "      <td>  32.204208</td>\n",
        "    </tr>\n",
        "    <tr>\n",
        "      <th>std</th>\n",
        "      <td> 257.353842</td>\n",
        "      <td>   0.486592</td>\n",
        "      <td>   0.836071</td>\n",
        "      <td>  14.526497</td>\n",
        "      <td>   1.102743</td>\n",
        "      <td>   0.806057</td>\n",
        "      <td>  49.693429</td>\n",
        "    </tr>\n",
        "    <tr>\n",
        "      <th>min</th>\n",
        "      <td>   1.000000</td>\n",
        "      <td>   0.000000</td>\n",
        "      <td>   1.000000</td>\n",
        "      <td>   0.420000</td>\n",
        "      <td>   0.000000</td>\n",
        "      <td>   0.000000</td>\n",
        "      <td>   0.000000</td>\n",
        "    </tr>\n",
        "    <tr>\n",
        "      <th>25%</th>\n",
        "      <td> 223.500000</td>\n",
        "      <td>   0.000000</td>\n",
        "      <td>   2.000000</td>\n",
        "      <td>  20.125000</td>\n",
        "      <td>   0.000000</td>\n",
        "      <td>   0.000000</td>\n",
        "      <td>   7.910400</td>\n",
        "    </tr>\n",
        "    <tr>\n",
        "      <th>50%</th>\n",
        "      <td> 446.000000</td>\n",
        "      <td>   0.000000</td>\n",
        "      <td>   3.000000</td>\n",
        "      <td>  28.000000</td>\n",
        "      <td>   0.000000</td>\n",
        "      <td>   0.000000</td>\n",
        "      <td>  14.454200</td>\n",
        "    </tr>\n",
        "    <tr>\n",
        "      <th>75%</th>\n",
        "      <td> 668.500000</td>\n",
        "      <td>   1.000000</td>\n",
        "      <td>   3.000000</td>\n",
        "      <td>  38.000000</td>\n",
        "      <td>   1.000000</td>\n",
        "      <td>   0.000000</td>\n",
        "      <td>  31.000000</td>\n",
        "    </tr>\n",
        "    <tr>\n",
        "      <th>max</th>\n",
        "      <td> 891.000000</td>\n",
        "      <td>   1.000000</td>\n",
        "      <td>   3.000000</td>\n",
        "      <td>  80.000000</td>\n",
        "      <td>   8.000000</td>\n",
        "      <td>   6.000000</td>\n",
        "      <td> 512.329200</td>\n",
        "    </tr>\n",
        "  </tbody>\n",
        "</table>\n",
        "</div>"
       ],
       "metadata": {},
       "output_type": "pyout",
       "prompt_number": 180,
       "text": [
        "       PassengerId    Survived      Pclass         Age       SibSp  \\\n",
        "count   891.000000  891.000000  891.000000  714.000000  891.000000   \n",
        "mean    446.000000    0.383838    2.308642   29.699118    0.523008   \n",
        "std     257.353842    0.486592    0.836071   14.526497    1.102743   \n",
        "min       1.000000    0.000000    1.000000    0.420000    0.000000   \n",
        "25%     223.500000    0.000000    2.000000   20.125000    0.000000   \n",
        "50%     446.000000    0.000000    3.000000   28.000000    0.000000   \n",
        "75%     668.500000    1.000000    3.000000   38.000000    1.000000   \n",
        "max     891.000000    1.000000    3.000000   80.000000    8.000000   \n",
        "\n",
        "            Parch        Fare  \n",
        "count  891.000000  891.000000  \n",
        "mean     0.381594   32.204208  \n",
        "std      0.806057   49.693429  \n",
        "min      0.000000    0.000000  \n",
        "25%      0.000000    7.910400  \n",
        "50%      0.000000   14.454200  \n",
        "75%      0.000000   31.000000  \n",
        "max      6.000000  512.329200  "
       ]
      }
     ],
     "prompt_number": 180
    },
    {
     "cell_type": "markdown",
     "metadata": {},
     "source": [
      "'PassengerId' and 'Name' are unimportant factors for predicting. 'Survived' is the dependent variable. According to the previous data analysis, 'Pclass', 'Sex' and 'Age' will be used to build model."
     ]
    },
    {
     "cell_type": "code",
     "collapsed": false,
     "input": [
      "age_grouped = df_train.groupby(['Pclass','Sex'])['Age'].median()\n",
      "subgroup = {1:'1F',2:'1M',3:'2F',4:'2M',5:'3F',6:'3M'}\n",
      "\n",
      "for i in range(1,7):\n",
      "    df_train[subgroup[i]] = 0\n",
      "    df_test[subgroup[i]] = 0\n",
      "    \n",
      "index = 1\n",
      "for c in range(1,4):\n",
      "    for s in ['female','male']:\n",
      "        df_train.Age[(df_train.Age.isnull()) \n",
      "                 & (df_train.Pclass == c)\n",
      "                 & (df_train.Sex == s)] = age_grouped[c][s]\n",
      "        df_test.Age[(df_test.Age.isnull()) \n",
      "                 & (df_test.Pclass == c)\n",
      "                 & (df_test.Sex == s)] = age_grouped[c][s]\n",
      "        print index, subgroup[index]\n",
      "        df_train[subgroup[index]][(df_train.Pclass == c)\n",
      "                 & (df_train.Sex == s)] = 1\n",
      "        df_test[subgroup[index]] [(df_test.Pclass == c)\n",
      "                 & (df_test.Sex == s)] = 1\n",
      "        index += 1\n",
      "        \n",
      "X1 = df_train[['1F','1M','2F','2M','3F','3M','Age']]\n",
      "X2 = df_test[['1F','1M','2F','2M','3F','3M','Age']]"
     ],
     "language": "python",
     "metadata": {},
     "outputs": [
      {
       "output_type": "stream",
       "stream": "stdout",
       "text": [
        "1 1F\n",
        "2"
       ]
      },
      {
       "output_type": "stream",
       "stream": "stdout",
       "text": [
        " 1M\n",
        "3 2F\n",
        "4 2M\n",
        "5 3F\n",
        "6 3M\n"
       ]
      }
     ],
     "prompt_number": 181
    },
    {
     "cell_type": "markdown",
     "metadata": {},
     "source": [
      "The median of age is calculated for subgroups divided by 'Pclass' and 'Sex'. Then, all NAN value in 'Age' column is filled for further simulation. 'Pclass' and 'Sex' are categorical variables which should be formed into six columns."
     ]
    },
    {
     "cell_type": "code",
     "collapsed": false,
     "input": [
      "logreg = linear_model.LogisticRegression(C=0.125)\n",
      "logreg.fit(X1,Y1)\n",
      "p_Y1 = logreg.predict(X1)\n",
      "app = pd.Series(p_Y1==Y1)\n",
      "tmp = app.value_counts()\n",
      "print tmp\n",
      "print 'Accuracy of prediction for training set '+repr(tmp[True]*1.0/(tmp[True]+tmp[False]))\n",
      "df_test['Survived'] = logreg.predict(X2)\n",
      "df_test[['PassengerId','Survived']].to_csv('logregmodel.csv', index=False)"
     ],
     "language": "python",
     "metadata": {},
     "outputs": [
      {
       "output_type": "stream",
       "stream": "stdout",
       "text": [
        "True     712\n",
        "False    179\n",
        "dtype: int64\n",
        "Accuracy of prediction for training set 0.7991021324354658\n"
       ]
      }
     ],
     "prompt_number": 182
    },
    {
     "cell_type": "markdown",
     "metadata": {},
     "source": [
      "The submission scored 0.75120. This result is even worse than the previous model based on only gender."
     ]
    },
    {
     "cell_type": "heading",
     "level": 2,
     "metadata": {},
     "source": [
      "Support Vector Machine"
     ]
    },
    {
     "cell_type": "markdown",
     "metadata": {},
     "source": [
      "Support vector machine is a powerful classification algorithm, especially for multi-class classification. This algorithm enforces a margin between two classes."
     ]
    },
    {
     "cell_type": "code",
     "collapsed": false,
     "input": [
      "from sklearn import svm\n",
      "suppvec = svm.SVC()\n",
      "suppvec.fit(X1,Y1)\n",
      "p_Y1 = suppvec.predict(X1)\n",
      "app = pd.Series(p_Y1==Y1)\n",
      "tmp = app.value_counts()\n",
      "print tmp\n",
      "print 'Accuracy of prediction for training set '+repr(tmp[True]*1.0/(tmp[True]+tmp[False]))\n",
      "df_test['Survived'] = logreg.predict(X2)\n",
      "df_test[['PassengerId','Survived']].to_csv('suppvecmodel.csv', index=False)"
     ],
     "language": "python",
     "metadata": {},
     "outputs": [
      {
       "output_type": "stream",
       "stream": "stdout",
       "text": [
        "True     744\n",
        "False    147\n",
        "dtype: int64\n",
        "Accuracy of prediction for training set 0.83501683501683499\n"
       ]
      }
     ],
     "prompt_number": 183
    },
    {
     "cell_type": "markdown",
     "metadata": {},
     "source": [
      "This model has better accuracy in training set. However, submission scored 0.75120 which is no better than logistic regression. "
     ]
    },
    {
     "cell_type": "heading",
     "level": 2,
     "metadata": {},
     "source": [
      "Conclusion"
     ]
    },
    {
     "cell_type": "markdown",
     "metadata": {},
     "source": [
      "There are several potential solutions to improve current model:"
     ]
    },
    {
     "cell_type": "markdown",
     "metadata": {},
     "source": [
      "First, for above three models, the filling of missing value in 'Age' column can be further improved;"
     ]
    },
    {
     "cell_type": "markdown",
     "metadata": {},
     "source": [
      "Second, other features might be included in the model, such as 'Fare', 'Embarked' etc.;"
     ]
    },
    {
     "cell_type": "markdown",
     "metadata": {},
     "source": [
      "Third, try some other models, such as classification by tree and random forest."
     ]
    },
    {
     "cell_type": "code",
     "collapsed": false,
     "input": [],
     "language": "python",
     "metadata": {},
     "outputs": []
    }
   ],
   "metadata": {}
  }
 ]
}