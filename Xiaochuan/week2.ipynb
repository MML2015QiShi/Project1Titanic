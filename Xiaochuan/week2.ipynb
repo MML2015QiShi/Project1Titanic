{
 "metadata": {
  "name": ""
 },
 "nbformat": 3,
 "nbformat_minor": 0,
 "worksheets": [
  {
   "cells": [
    {
     "cell_type": "code",
     "collapsed": false,
     "input": [
      "# In this document I present some basic skills to\n",
      "# use python pandas package to perform supervised\n",
      "# machine learning. "
     ],
     "language": "python",
     "metadata": {},
     "outputs": [],
     "prompt_number": 2
    },
    {
     "cell_type": "code",
     "collapsed": false,
     "input": [
      "# The problem studied here is the suvive pattern of\n",
      "# the famouse shipwreck, the sink of Titanic. The \n",
      "# data used is from Kaggle.com."
     ],
     "language": "python",
     "metadata": {},
     "outputs": [],
     "prompt_number": 3
    },
    {
     "cell_type": "code",
     "collapsed": false,
     "input": [
      "# Basically there are two sets of data, one for \n",
      "# training the model, one for testing the performance\n",
      "# of this model. Two sets of data have almost the same\n",
      "# structure, except that the train set gives the \n",
      "# information of whether this passenger survived or\n",
      "# not. The test set does not have this information\n",
      "# and it is up to be predicted by the model. \n",
      "# The whole set of data might not all be useful,\n",
      "# therefore one has to investigate each of them, and\n",
      "# decide which of them should be included in the model."
     ],
     "language": "python",
     "metadata": {},
     "outputs": [],
     "prompt_number": 4
    },
    {
     "cell_type": "code",
     "collapsed": false,
     "input": [
      "# These are packages of python that are going to be used\n",
      "# numpy is a essential package for operating arrays/matrices\n",
      "# csv is a commonly used text form of spreadsheet\n",
      "# pandas is a powerful package for data manipulation and analysis\n",
      "# pylab is a matlab-like plotting library \n",
      "import numpy as np\n",
      "import csv as csv\n",
      "import pandas as pd\n",
      "import pylab as P"
     ],
     "language": "python",
     "metadata": {},
     "outputs": [],
     "prompt_number": 5
    },
    {
     "cell_type": "code",
     "collapsed": false,
     "input": [
      "# Read the data from the train set\n",
      "train = pd.read_csv(\"train.csv\", header=0)\n",
      "\n",
      "# Convert sex to int type\n",
      "train[\"Sex\"]=train[\"Sex\"].map({\"female\":0, \"male\": 1}).astype(int)\n",
      "\n",
      "#Convert Embarked to int type\n",
      "#  First fill the lost data with the most frequent embarking port\n",
      "train.Embarked[train.Embarked.isnull()]=train.Embarked.dropna().mode().values\n",
      "#  Use a dictionary to convert the port name(str type) into int type \n",
      "Ports = list(enumerate(np.unique(train.Embarked)))\n",
      "Ports_dict = {name:i for i, name in Ports}\n",
      "train.Embarked = train.Embarked.map(lambda x : Ports_dict[x]).astype(int)\n",
      "\n",
      "# Set the missing age\n",
      "train['Agelost'] = 0\n",
      "train.loc[train['Age'].isnull(),'Agelost'] = 1 \n",
      "\n",
      "for isex in xrange(0,2):\n",
      "    for iclass in xrange(1,4):\n",
      "        agemissing = train.Age[(train.Pclass==iclass) & \\\n",
      "                               (train.Sex == isex)].dropna().median()\n",
      "        train.loc[(train.Pclass==iclass) & (train.Sex == isex) & \\\n",
      "                  (train.Age.isnull()),'Age'] = agemissing\n",
      "        \n",
      "#Drop data that can be hardly related to the surviveness\n",
      "train = train.drop(['Name','Cabin','PassengerId','Ticket'],axis=1)"
     ],
     "language": "python",
     "metadata": {},
     "outputs": [],
     "prompt_number": 6
    },
    {
     "cell_type": "code",
     "collapsed": false,
     "input": [
      "# Now all the data should be in position\n",
      "# Use dataframe.info to check the completeness of the data\n",
      "train.info()"
     ],
     "language": "python",
     "metadata": {},
     "outputs": [
      {
       "output_type": "stream",
       "stream": "stdout",
       "text": [
        "<class 'pandas.core.frame.DataFrame'>\n",
        "Int64Index: 891 entries, 0 to 890\n",
        "Data columns (total 9 columns):\n",
        "Survived    891 non-null int64\n",
        "Pclass      891 non-null int64\n",
        "Sex         891 non-null int64\n",
        "Age         891 non-null float64\n",
        "SibSp       891 non-null int64\n",
        "Parch       891 non-null int64\n",
        "Fare        891 non-null float64\n",
        "Embarked    891 non-null int64\n",
        "Agelost     891 non-null int64\n",
        "dtypes: float64(2), int64(7)"
       ]
      }
     ],
     "prompt_number": 7
    },
    {
     "cell_type": "code",
     "collapsed": false,
     "input": [
      "# Now we should determine whether the rest of the data is related\n",
      "\n",
      "# It was a common morality that women and children should be given\n",
      "# higher priority to survive when desaster happened. It would be \n",
      "# reasonable to expect that the sex plays an important role to \n",
      "# predict the surviveness.\n",
      "nman_onboard   = len(train[train['Sex']==1])\n",
      "nman_survived  = len(train[(train['Sex']==1) & \\\n",
      "                               (train['Survived']==1)])\n",
      "nwoman_onboard = len(train[train['Sex']==0])\n",
      "nwoman_survived= len(train[(train['Sex']==0) & \\\n",
      "                               (train['Survived']==1)])\n",
      "print \"The survive rate for male passengers is:\",\\\n",
      "       float(nman_survived)/nman_onboard\n",
      "print \"The survive rate for female passengers is:\",\\\n",
      "       float(nwoman_survived)/nwoman_onboard\n",
      "\n",
      "#Use the bar plot to highlight the difference of surviving\n",
      "#between males and females\n",
      "%matplotlib inline\n",
      "P.figure(1)\n",
      "#  The bars\n",
      "plot_onboard  = P.bar([1,2], [nman_onboard,nwoman_onboard],\\\n",
      "            color='#00CDCD',linewidth=0)\n",
      "plot_survived = P.bar([1,2], [nman_survived,nwoman_survived],\\\n",
      "            color='#002AFF',linewidth=0)\n",
      "#  Axes and labels\n",
      "P.title('The number of people survived',fontsize=20)\n",
      "P.ylabel('Population',fontsize=20)\n",
      "P.xlim(0.3,3.5)\n",
      "P.xticks( [1.4,2.4], ['Male', 'Female'],fontsize=20 )\n",
      "\n",
      "#  The legend\n",
      "P.legend( (plot_onboard, plot_survived), ('On Board', 'Survived') )\n",
      "P.show()\n",
      "print nman_onboard,nwoman_onboard, nman_survived,nwoman_survived\n",
      "\n",
      "#  We can also show that surviveness has strong correlation\n",
      "#  with the sex of the passenger\n",
      "print \"The correlation between the sex and the possibility\",\\\n",
      "      \"\\nto survive is:\",np.corrcoef(train.Survived, train.Sex)[0,1]"
     ],
     "language": "python",
     "metadata": {},
     "outputs": [
      {
       "output_type": "stream",
       "stream": "stdout",
       "text": [
        "The survive rate for male passengers is: 0.188908145581\n",
        "The survive rate for female passengers is: 0.742038216561\n"
       ]
      },
      {
       "metadata": {},
       "output_type": "display_data",
       "png": "[encoded data removed]",
       "text": [
        "<matplotlib.figure.Figure at 0x7f6fbe9d6dd0>"
       ]
      },
      {
       "output_type": "stream",
       "stream": "stdout",
       "text": [
        "577 314 109 233\n",
        "The correlation between the sex and the possibility \n",
        "to survive is: -0.543351380658\n"
       ]
      }
     ],
     "prompt_number": 8
    },
    {
     "cell_type": "code",
     "collapsed": false,
     "input": [
      "# We could declare that we have found a simplest model to \n",
      "# predict the surviveness based on the sex of the passenger.\n",
      "# However if we use this model to test the train set itself,\n",
      "# we would have about 20% chance to make mistakes. Well\n",
      "# this is not too bad, but we shall examine if there is other\n",
      "# information we could use.\n",
      "\n",
      "# Instead of going through every column of data as above, we \n",
      "# would simply check their coefficience with the surviveness.\n",
      "print \"Correlation coefficient between surviveness and each data field:\"\n",
      "corr_frame = pd.DataFrame()\n",
      "corr_frame['Data'] = train.columns\n",
      "#corr_frame['Corr'] = 0.0\n",
      "for col in train.columns:\n",
      "    corr_frame.loc[corr_frame.Data == col,'Corr']=np.corrcoef(train.Survived, train[col])[0,1]\n",
      "print corr_frame"
     ],
     "language": "python",
     "metadata": {},
     "outputs": [
      {
       "output_type": "stream",
       "stream": "stdout",
       "text": [
        "Correlation coefficient between surviveness and each data field:\n",
        "       Data      Corr\n",
        "0  Survived  1.000000\n",
        "1    Pclass -0.338481\n",
        "2       Sex -0.543351\n",
        "3       Age -0.059579\n",
        "4     SibSp -0.035322\n",
        "5     Parch  0.081629\n",
        "6      Fare  0.257307\n",
        "7  Embarked -0.167675\n",
        "8   Agelost -0.092197\n",
        "\n",
        "[9 rows x 2 columns]\n"
       ]
      }
     ],
     "prompt_number": 9
    },
    {
     "cell_type": "code",
     "collapsed": false,
     "input": [
      "# Apart from the Sex, it is interesting to notice that the class\n",
      "# and the ticket price also plays an important rule for surviving:\n",
      "# The better class and higher ticket price leads to higher chance\n",
      "# to survive. This may be due to the fact that cabins of higher \n",
      "# level class are often located in better place for escaping, or \n",
      "# it is simply because money talks. \n",
      "\n",
      "# Although the embarked port has quite high correlation with the\n",
      "# surviveness, but we decided not to include it in the model. This \n",
      "# is because it is hard to draw a direct connection between them. \n",
      "# Considering this term may cause over-fitting. The reason why the\n",
      "# correlation is so high is probably due to the correlation between\n",
      "# the port and the Pclass, and the latter has high correlation to \n",
      "# the surviveness as discussed above. \n",
      "\n",
      "# Here we can calculate the correlation between Embarked and Pclass\n",
      "print \"The correlation between Embarked and Pclass is:\", \\\n",
      "       np.corrcoef(train.Embarked, train.Pclass)[0,1]\n",
      "\n",
      "# We can also plot the scatter plot to show their correlation \n",
      "# In order to avoid the overlapping between data points, we \n",
      "# added some random fluctuation in both Embarked and Pclass\n",
      "nre = len(train.Pclass)\n",
      "plot_port  = P.scatter(train.Embarked+(np.random.rand(nre)-0.5)/2,\\\n",
      "                       train.Pclass+(np.random.rand(nre)-0.5)/2,\\\n",
      "              s=5, c=\"blue\", alpha=0.5)\n",
      "#  Axes and labels\n",
      "P.xlabel('Embarked',fontsize=20)\n",
      "P.ylabel('Pclass',fontsize=20)\n",
      "P.xticks( xrange(0,3) ,fontsize = 15)\n",
      "P.yticks( xrange(1,4) ,fontsize = 15)\n",
      "P.show()\n",
      "\n",
      "# One sees that the passenger from port 1 are most in the 3rd\n",
      "# class, this explains why Embarked has correlation with Survived,\n",
      "# but the Embarked port is not the reason why certain passengers\n",
      "# have lower chance to survive.Including this kind of feature may \n",
      "# cause over-fitting."
     ],
     "language": "python",
     "metadata": {},
     "outputs": [
      {
       "output_type": "stream",
       "stream": "stdout",
       "text": [
        "The correlation between Embarked and Pclass is: 0.162097804421\n"
       ]
      },
      {
       "metadata": {},
       "output_type": "display_data",
       "png": "[encoded data removed]",
       "text": [
        "<matplotlib.figure.Figure at 0x7f6fbe9daf50>"
       ]
      }
     ],
     "prompt_number": 10
    },
    {
     "cell_type": "code",
     "collapsed": false,
     "input": [
      "# Now we have decided to use Sex, Pclass, and Fare\n",
      "# to predict the surviveness. This is a tipical logistic\n",
      "# regression problem. The algorithm to solve this\n",
      "# problem has been implemented in many common statistical \n",
      "# packages, we do not rebuild the wheel here, and using \n",
      "# these packages will be the topic in following weeks, so\n",
      "# we will use a simplified method instead.\n",
      "\n",
      "# We classfy all the passengers into \n",
      "#     2(Sex) * 3(Pclass) * 4(Fare) = 24\n",
      "# categories, and count the survive rate of each of them.\n",
      "\n",
      "# First classify the Fare into 4 categories\n",
      "train['FareCate'] = 0\n",
      "train.loc[train.Fare>=10,'FareCate'] = 1\n",
      "train.loc[train.Fare>=20,'FareCate'] = 2\n",
      "train.loc[train.Fare>=30,'FareCate'] = 3\n",
      "\n",
      "# Now calculate the total and survived of passengers\n",
      "# in each category.\n",
      "num_Sex = len(np.unique(train.Sex))\n",
      "num_Pclass = len(np.unique(train.Pclass))\n",
      "num_FareCate = len(np.unique(train.FareCate))\n",
      "\n",
      "tot_cate = np.zeros((num_Sex,num_Pclass, num_FareCate))\n",
      "sur_cate = np.zeros((num_Sex,num_Pclass, num_FareCate))\n",
      "sur_rate_cate = np.zeros((num_Sex,num_Pclass, num_FareCate))\n",
      "\n",
      "for isex in xrange(0,num_Sex):\n",
      "    for iclass in xrange(0,num_Pclass):\n",
      "        for ifc in xrange(0,num_FareCate):\n",
      "            tot_cate[isex, iclass, ifc] = len(train[(train['Sex']==isex) &\\\n",
      "                                                    (train['Pclass']==iclass+1) &\\\n",
      "                                                    (train['FareCate']==ifc)])\n",
      "                    \n",
      "            sur_cate[isex, iclass, ifc] = len(train[(train['Sex']==isex) &\\\n",
      "                                                    (train['Pclass']==iclass+1) &\\\n",
      "                                                    (train['FareCate']==ifc) &\\\n",
      "                                                    (train['Survived']==1)])\n",
      "            if tot_cate[isex, iclass, ifc] != 0:                  \n",
      "                sur_rate_cate[isex, iclass, ifc] = float(sur_cate[isex, iclass, ifc])/\\\n",
      "                                                   tot_cate[isex, iclass, ifc]\n",
      "            # If the number of passenger is zero in this category\n",
      "            # use the averaged data for this sex\n",
      "            elif isex == 0:\n",
      "                sur_rate_cate[isex, iclass, ifc] = float(nwoman_survived)/nwoman_onboard\n",
      "            else:\n",
      "                sur_rate_cate[isex, iclass, ifc] = float(nman_survived)/nman_onboard\n",
      "                \n",
      "print \"The suvive rate for each category of passenger is:\\n\" \n",
      "print sur_rate_cate\n",
      "\n",
      "# This means that we would predict death for all the male passengers\n",
      "# and for female passengers who paid more than 20 dollars for the 3rd\n",
      "# class. Though we have a finer model than the previous one where we\n",
      "# predict simply based on the sex, but it is not very convincing to \n",
      "# observe that the ladies in 3rd class who paid more than 20 dollars \n",
      "# have less chance to survive than their roomates who paid less money.\n",
      "# There might be some reasoning underneath this observation, but it \n",
      "# might also be an over-fitted feature. For this reason, although this\n",
      "# model would give a slightly better prediction for the train set, but \n",
      "# it is not sure that it would perform better than the simpler model\n",
      "# for the test set. For this reason, we will use both these two models\n",
      "# to do the prediction\n"
     ],
     "language": "python",
     "metadata": {},
     "outputs": [
      {
       "output_type": "stream",
       "stream": "stdout",
       "text": [
        "The suvive rate for each category of passenger is:\n",
        "\n",
        "[[[ 0.74203822  0.74203822  0.83333333  0.97727273]\n",
        "  [ 0.74203822  0.91428571  0.9         1.        ]\n",
        "  [ 0.59375     0.58139535  0.33333333  0.125     ]]\n",
        "\n",
        " [[ 0.          0.18890815  0.4         0.38372093]\n",
        "  [ 0.          0.15873016  0.16        0.21428571]\n",
        "  [ 0.11153846  0.23684211  0.125       0.24      ]]]\n"
       ]
      }
     ],
     "prompt_number": 49
    },
    {
     "cell_type": "code",
     "collapsed": false,
     "input": [
      "# Now we used these two models to predict the surviveness\n",
      "# for the test set\n",
      "\n",
      "# First read the test set\n",
      "test = pd.read_csv(\"test.csv\",header=0)\n",
      "#Convert sex to int type\n",
      "test[\"Sex\"]=test[\"Sex\"].map({\"female\":0, \"male\": 1}).astype(int)\n",
      "# Set missing Fare\n",
      "for j in xrange(1,4):\n",
      "    test.Fare[(test.Pclass==j) & (test.Fare.isnull())] = \\\n",
      "    test.Fare[test.Pclass==j].dropna().median()\n",
      "# Classify the Fare into 4 categories\n",
      "test['FareCate'] = 0\n",
      "test.loc[test.Fare>=10,'FareCate'] = 1\n",
      "test.loc[test.Fare>=20,'FareCate'] = 2\n",
      "test.loc[test.Fare>=30,'FareCate'] = 3\n"
     ],
     "language": "python",
     "metadata": {},
     "outputs": [],
     "prompt_number": 60
    },
    {
     "cell_type": "code",
     "collapsed": false,
     "input": [
      "#Use the first model \n",
      "test['Survived'] = 0\n",
      "print \"Predicting based only on the sex ...\"\n",
      "for ip in xrange(0,len(test)):\n",
      "    if test.Sex[ip] == 0:\n",
      "        test['Survived'][ip] = 1\n",
      "        \n",
      "#Write the prediction to file\n",
      "print \"The result is saved in: myfirstprediction.csv\"\n",
      "predictions_file = open(\"myfirstprediction.csv\",\"wb\")\n",
      "open_file_object = csv.writer(predictions_file)\n",
      "open_file_object.writerow([\"PassengerId\",\"Survived\"])\n",
      "open_file_object.writerows(test[[\"PassengerId\",\"Survived\"]].values)\n",
      "predictions_file.close()"
     ],
     "language": "python",
     "metadata": {},
     "outputs": [
      {
       "output_type": "stream",
       "stream": "stdout",
       "text": [
        "Predicting based only on the sex ...\n",
        "The result is saved in: myfirstprediction.csv\n"
       ]
      }
     ],
     "prompt_number": 110
    },
    {
     "cell_type": "code",
     "collapsed": false,
     "input": [
      "#Use the second model \n",
      "test['Survived'] = 0\n",
      "print \"Predicting based only on sex, pclass, and fare ...\"\n",
      "\n",
      "for ip in xrange(0,len(test)):\n",
      "    if sur_rate_cate[test.Sex[ip],test.Pclass[ip]-1,\\\n",
      "                            test.FareCate[ip]] >= 0.5:\n",
      "        test['Survived'][ip] = 1\n",
      "        \n",
      "#Write the prediction to file\n",
      "print \"The result is saved in: mysecondprediction.csv\"\n",
      "predictions_file = open(\"mysecondprediction.csv\",\"wb\")\n",
      "open_file_object = csv.writer(predictions_file)\n",
      "open_file_object.writerow([\"PassengerId\",\"Survived\"])\n",
      "open_file_object.writerows(test[[\"PassengerId\",\"Survived\"]].values)\n",
      "predictions_file.close()"
     ],
     "language": "python",
     "metadata": {},
     "outputs": [
      {
       "output_type": "stream",
       "stream": "stdout",
       "text": [
        "Predicting based only on sex, pclass, and fare ...\n",
        "The result is saved in: mysecondprediction.csv\n"
       ]
      }
     ],
     "prompt_number": 111
    },
    {
     "cell_type": "code",
     "collapsed": false,
     "input": [
      "print 'Done.'"
     ],
     "language": "python",
     "metadata": {},
     "outputs": [],
     "prompt_number": 224
    }
   ],
   "metadata": {}
  }
 ]
}